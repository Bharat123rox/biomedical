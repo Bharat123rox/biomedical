{
 "cells": [
  {
   "cell_type": "code",
   "execution_count": 5,
   "metadata": {},
   "outputs": [
    {
     "name": "stdout",
     "output_type": "stream",
     "text": [
      "/home/debo/bs/biomedical/notebooks\n"
     ]
    }
   ],
   "source": [
    "!pwd"
   ]
  },
  {
   "cell_type": "code",
   "execution_count": 8,
   "metadata": {},
   "outputs": [],
   "source": [
    "import sys\n",
    "sys.path.append('../../evaluation/')"
   ]
  },
  {
   "cell_type": "code",
   "execution_count": 9,
   "metadata": {},
   "outputs": [],
   "source": [
    "from transformers import AutoModelForCausalLM, AutoTokenizer\n",
    "from datasets import load_dataset\n",
    "import torch\n",
    "from jinja2 import Template\n",
    "from torch.utils.data import Dataset\n",
    "from tqdm import tqdm\n",
    "\n",
    "from evaluation.tasks.auto_task import AutoTask\n",
    "\n",
    "device = torch.device(\"cuda:0\")\n",
    "\n",
    "model_name_or_path = 'gpt2'\n",
    "\n",
    "tokenizer = AutoTokenizer.from_pretrained(model_name_or_path)\n",
    "tokenizer.pad_token = tokenizer.eos_token\n",
    "tokenizer.padding_side = \"left\"\n",
    "\n",
    "model = AutoModelForCausalLM.from_pretrained(\n",
    "    model_name_or_path,\n",
    "    pad_token_id=tokenizer.eos_token,\n",
    ")\n",
    "model.config.pad_token_id = model.config.eos_token_id\n",
    "model.resize_token_embeddings(len(tokenizer))\n",
    "model.to(device)\n",
    "\n",
    "\n",
    "TEMPLATE = Template(\n",
    "    \"\"\"\n",
    "    Given that: {{context}}\n",
    "    {{question}}\n",
    "    Answer:\n",
    "    \"\"\"\n",
    ")"
   ]
  },
  {
   "cell_type": "code",
   "execution_count": 10,
   "metadata": {},
   "outputs": [
    {
     "name": "stderr",
     "output_type": "stream",
     "text": [
      "Reusing dataset pubmed_qa (/home/debo/.cache/huggingface/datasets/pubmed_qa/pqa_labeled/1.0.0/2e65addecca4197502cd10ab8ef1919a47c28672f62d7abac7cc9afdcf24fb2d)\n"
     ]
    }
   ],
   "source": [
    "dataset_l = load_dataset(\"pubmed_qa\", \"pqa_labeled\")\n",
    "pp = dataset_l['train'].select(range(10))"
   ]
  },
  {
   "cell_type": "code",
   "execution_count": 14,
   "metadata": {},
   "outputs": [],
   "source": [
    "class PubMedQADatset(Dataset):\n",
    "    def __init__(self, tokenizer):\n",
    "        super().__init__()\n",
    "        assert tokenizer.pad_token == tokenizer.eos_token\n",
    "        dataset_l = load_dataset(\"pubmed_qa\", \"pqa_labeled\")\n",
    "        self.items = []\n",
    "        for sample in dataset_l['train']:\n",
    "                # Filter out samples in languages that are not used during training\n",
    "                prompt = TEMPLATE.render(\n",
    "                    question=sample[\"question\"],\n",
    "                    context = \" \".join(sample[\"context\"][\"contexts\"])\n",
    "                )\n",
    "                prompt = prompt.strip()  # Remove trailing white space and newline\n",
    "\n",
    "                # Tokenize and construct this sample\n",
    "                inputs = tokenizer(\n",
    "                    prompt,\n",
    "                    padding=True,\n",
    "                    return_tensors=\"pt\",\n",
    "                    truncation=True\n",
    "                )\n",
    "                self.items.append(\n",
    "                    {\n",
    "                        \"prompt\": prompt,\n",
    "                        \"input_ids\": inputs[\"input_ids\"],\n",
    "                        \"attention_mask\": inputs[\"attention_mask\"],\n",
    "                        \"input_len\": inputs[\"attention_mask\"].shape[1],\n",
    "                        \"target_answer\": sample[\"final_decision\"],\n",
    "                    }\n",
    "                )\n",
    "    def __len__(self):\n",
    "        return len(self.items)\n",
    "\n",
    "    def __getitem__(self, index):\n",
    "        return self.items[index]"
   ]
  },
  {
   "cell_type": "code",
   "execution_count": 15,
   "metadata": {},
   "outputs": [
    {
     "name": "stderr",
     "output_type": "stream",
     "text": [
      "Reusing dataset pubmed_qa (/home/debo/.cache/huggingface/datasets/pubmed_qa/pqa_labeled/1.0.0/2e65addecca4197502cd10ab8ef1919a47c28672f62d7abac7cc9afdcf24fb2d)\n"
     ]
    }
   ],
   "source": [
    "dsd = PubMedQADatset(tokenizer)"
   ]
  },
  {
   "cell_type": "code",
   "execution_count": 76,
   "metadata": {},
   "outputs": [],
   "source": [
    "# dsd[8:16]"
   ]
  },
  {
   "cell_type": "code",
   "execution_count": 17,
   "metadata": {},
   "outputs": [
    {
     "name": "stderr",
     "output_type": "stream",
     "text": [
      "Evaluating pubmedQA: 100%|██████████| 10/10 [00:51<00:00,  5.16s/it]\n"
     ]
    }
   ],
   "source": [
    "substring_matches = 0\n",
    "for sample in tqdm(dsd[:10], desc=f\"Evaluating pubmedQA\"):\n",
    "    output = model.generate(\n",
    "        input_ids=sample[\"input_ids\"].to(device),\n",
    "        attention_mask=sample[\"attention_mask\"].to(device),\n",
    "        max_length=min(sample[\"input_len\"] * 2, model.config.n_positions),\n",
    "    )\n",
    "\n",
    "    prompt_len = len(sample[\"prompt\"])\n",
    "    decoded_output = tokenizer.decode(output[0], skip_special_tokens=True)\n",
    "    predicted_answer = decoded_output[prompt_len:]\n",
    "\n",
    "    target_answers = sample[\"target_answer\"]\n",
    "    substring_match = any([target_answer in predicted_answer.lower() for target_answer in target_answers])\n",
    "    substring_matches += substring_match"
   ]
  },
  {
   "cell_type": "code",
   "execution_count": 18,
   "metadata": {},
   "outputs": [
    {
     "data": {
      "text/plain": [
       "9"
      ]
     },
     "execution_count": 18,
     "metadata": {},
     "output_type": "execute_result"
    }
   ],
   "source": [
    "substring_matches"
   ]
  },
  {
   "cell_type": "code",
   "execution_count": null,
   "metadata": {},
   "outputs": [],
   "source": []
  }
 ],
 "metadata": {
  "kernelspec": {
   "display_name": "fewshot",
   "language": "python",
   "name": "fewshot"
  },
  "language_info": {
   "codemirror_mode": {
    "name": "ipython",
    "version": 3
   },
   "file_extension": ".py",
   "mimetype": "text/x-python",
   "name": "python",
   "nbconvert_exporter": "python",
   "pygments_lexer": "ipython3",
   "version": "3.7.6"
  }
 },
 "nbformat": 4,
 "nbformat_minor": 4
}
