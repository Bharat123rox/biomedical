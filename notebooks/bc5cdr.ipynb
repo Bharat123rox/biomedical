{
 "cells": [
  {
   "cell_type": "markdown",
   "id": "902f8d0c",
   "metadata": {},
   "source": [
    "# BC5CDR\n"
   ]
  },
  {
   "cell_type": "code",
   "execution_count": 1,
   "id": "b4431401",
   "metadata": {},
   "outputs": [],
   "source": [
    "import gzip\n",
    "import io\n",
    "import os\n",
    "import re\n",
    "import tarfile\n",
    "import urllib.request\n",
    "import zipfile\n",
    "\n",
    "DATA_ROOT = \"datasets/\"\n",
    "\n",
    "if not os.path.exists(DATA_ROOT):\n",
    "    os.mkdir(DATA_ROOT)\n",
    "\n",
    "def download(url, fpath):\n",
    "    opener = urllib.request.build_opener()\n",
    "    opener.addheaders = [(\"User-agent\", \"Mozilla/5.0\")]\n",
    "    urllib.request.install_opener(opener)\n",
    "    urllib.request.urlretrieve(url, fpath)\n",
    "    \n",
    "url = \"http://www.biocreative.org/media/store/files/2016/CDR_Data.zip\"\n",
    "\n",
    "outfpath = f\"{DATA_ROOT}/{url.strip().split('/')[-1]}\" \n",
    "download(url, outfpath)\n",
    "\n",
    "# unzip files\n",
    "with zipfile.ZipFile(outfpath, 'r') as zip_ref:\n",
    "    zip_ref.extractall(DATA_ROOT)\n",
    " "
   ]
  },
  {
   "cell_type": "code",
   "execution_count": 18,
   "id": "58be55f8",
   "metadata": {},
   "outputs": [
    {
     "name": "stdout",
     "output_type": "stream",
     "text": [
      "500 500 500\n"
     ]
    }
   ],
   "source": [
    "import bioc\n",
    "\n",
    "class Annotation:\n",
    "    def __init__(self, offsets, text, type_, kb_id):\n",
    "        self.offsets = offsets\n",
    "        self.text = text\n",
    "        self.type_ = type_\n",
    "        self.kb_id = kb_id\n",
    "\n",
    "class Document:\n",
    "    def __init__(self, text, ents, relations):\n",
    "        self.text = text\n",
    "        self.ents = ents\n",
    "        self.relations = relations\n",
    "        \n",
    "def parse_bioc_annotations(xdoc, kb_id_key=None):\n",
    "    text = ' '.join([section.text for section in xdoc.passages])\n",
    "    ents = []\n",
    "    for section in xdoc.passages:\n",
    "        for span in section.annotations:\n",
    "            char_start = span.locations[0].offset\n",
    "            char_end = span.locations[0].offset + span.locations[0].length\n",
    "            offsets = (char_start, char_end)\n",
    "            kb_id = span.infons[kb_id_key] if kb_id_key else -1\n",
    "            ents.append(Annotation(offsets, span.text, span.infons['type'], kb_id))\n",
    "    \n",
    "    return Document(text,\n",
    "                    sorted(ents, key=lambda x:x.offsets, reverse=False),\n",
    "                    [rel.infons for rel in xdoc.relations])\n",
    "            \n",
    "def load_corpus(fname):\n",
    "    reader = bioc.BioCXMLDocumentReader(fname)\n",
    "    return [\n",
    "        parse_bioc_annotations(xdoc, 'MESH')\n",
    "        for i,xdoc in enumerate(reader)\n",
    "    ]\n",
    "\n",
    "train = load_corpus(f\"{DATA_ROOT}/CDR_Data/CDR.Corpus.v010516/CDR_TrainingSet.BioC.xml\")\n",
    "dev = load_corpus(f\"{DATA_ROOT}/CDR_Data/CDR.Corpus.v010516/CDR_DevelopmentSet.BioC.xml\")\n",
    "test = load_corpus(f\"{DATA_ROOT}/CDR_Data/CDR.Corpus.v010516/CDR_TestSet.BioC.xml\")\n",
    "\n",
    "print(len(train), len(dev), len(test))\n"
   ]
  },
  {
   "cell_type": "markdown",
   "id": "7220ca11",
   "metadata": {},
   "source": [
    "## Prompts"
   ]
  },
  {
   "cell_type": "code",
   "execution_count": 49,
   "id": "2b7baa40",
   "metadata": {},
   "outputs": [
    {
     "name": "stdout",
     "output_type": "stream",
     "text": [
      "Create a comma-separated list of all Chemical names mentioned in the following PubMed abstract. If there are no Chemical mentions, print None.\n",
      "\"Naloxone reverses the antihypertensive effect of clonidine. In unanesthetized, spontaneously hypertensive rats the decrease in blood pressure and heart rate produced by intravenous clonidine, 5 to 20 micrograms/kg, was inhibited or reversed by nalozone, 0.2 to 2 mg/kg. The hypotensive effect of 100 mg/kg alpha-methyldopa was also partially reversed by naloxone. Naloxone alone did not affect either blood pressure or heart rate. In brain membranes from spontaneously hypertensive rats clonidine, 10(-8) to 10(-5) M, did not influence stereoselective binding of [3H]-naloxone (8 nM), and naloxone, 10(-8) to 10(-4) M, did not influence clonidine-suppressible binding of [3H]-dihydroergocryptine (1 nM). These findings indicate that in spontaneously hypertensive rats the effects of central alpha-adrenoceptor stimulation involve activation of opiate receptors. As naloxone and clonidine do not appear to interact with the same receptor site, the observed functional antagonism suggests the release of an endogenous opiate by clonidine or alpha-methyldopa and the possible role of the opiate in the central control of sympathetic tone.\"\n",
      "|||Naloxone, clonidine, clonidine, nalozone, alpha-methyldopa, naloxone, Naloxone, clonidine, [3H]-naloxone, naloxone, clonidine, [3H]-dihydroergocryptine, naloxone, clonidine, clonidine, alpha-methyldopa\n",
      "Create a comma-separated list of all Disease names mentioned in the following PubMed abstract. If there are no Disease mentions, print None.\n",
      "\"Naloxone reverses the antihypertensive effect of clonidine. In unanesthetized, spontaneously hypertensive rats the decrease in blood pressure and heart rate produced by intravenous clonidine, 5 to 20 micrograms/kg, was inhibited or reversed by nalozone, 0.2 to 2 mg/kg. The hypotensive effect of 100 mg/kg alpha-methyldopa was also partially reversed by naloxone. Naloxone alone did not affect either blood pressure or heart rate. In brain membranes from spontaneously hypertensive rats clonidine, 10(-8) to 10(-5) M, did not influence stereoselective binding of [3H]-naloxone (8 nM), and naloxone, 10(-8) to 10(-4) M, did not influence clonidine-suppressible binding of [3H]-dihydroergocryptine (1 nM). These findings indicate that in spontaneously hypertensive rats the effects of central alpha-adrenoceptor stimulation involve activation of opiate receptors. As naloxone and clonidine do not appear to interact with the same receptor site, the observed functional antagonism suggests the release of an endogenous opiate by clonidine or alpha-methyldopa and the possible role of the opiate in the central control of sympathetic tone.\"\n",
      "|||hypertensive, hypotensive, hypertensive, hypertensive\n"
     ]
    }
   ],
   "source": [
    "def list_mentions_for_an_entity_type(x, entity_type):\n",
    "    \"\"\"\n",
    "    answer_choices: N/A\n",
    "    answers_in_prompt: yes\n",
    "    original task: yes\n",
    "    \"\"\"\n",
    "    tmpl = \"Create a comma-separated list of all {} names mentioned in the following PubMed abstract. \"\n",
    "    tmpl += \"If there are no {} mentions, print None.\\n\"\n",
    "    tmpl += '\"{}\"\\n|||{}'\n",
    "    \n",
    "    target = \", \".join([e.text for e in x.ents if e.type_ == entity_type])\n",
    "    if not target:\n",
    "        target = \"None\"\n",
    "    return tmpl.format(entity_type, entity_type, x.text, target)\n",
    "\n",
    "prompt = list_mentions_for_an_entity_type(train[0], 'Chemical')\n",
    "print(prompt)\n",
    "\n",
    "prompt = list_mentions_for_an_entity_type(train[0], 'Disease')\n",
    "print(prompt)\n"
   ]
  },
  {
   "cell_type": "code",
   "execution_count": 55,
   "id": "f26a979c",
   "metadata": {},
   "outputs": [
    {
     "name": "stdout",
     "output_type": "stream",
     "text": [
      "{'D009270': {'naloxone'}, 'D003000': {'clonidine'}, 'D006973': {'hypertensive'}, '-1': {'nalozone', '[3h]-naloxone', '[3h]-dihydroergocryptine'}, 'D007022': {'hypotensive'}, 'D008750': {'alpha-methyldopa'}}\n",
      "[{'relation': 'CID', 'Chemical': 'D008750', 'Disease': 'D007022'}]\n"
     ]
    }
   ],
   "source": [
    "import collections\n",
    "\n",
    "def create_multiple_choice(x):\n",
    "    \"\"\"\n",
    "    Can disease x be induced by chemical y? Yes/No\n",
    "    Can chemical y induce disease x? Yes/No\n",
    "    \n",
    "    \n",
    "    Chemical y can induce which of the following diseases? \n",
    "    \n",
    "    - \n",
    "    - None of the above\n",
    "    \n",
    "    \"\"\"\n",
    "    # build mapping of MESH ids to surface forms\n",
    "    kb = collections.defaultdict(set)\n",
    "    for e in x.ents:\n",
    "        kb[e.kb_id].add(e.text.lower())    \n",
    "    kb = dict(kb)\n",
    "    \n",
    "    \n",
    "    print(x.relations)\n",
    "\n",
    "\n",
    "\n",
    "create_multiple_choice(train[0])\n"
   ]
  },
  {
   "cell_type": "markdown",
   "id": "b08595da",
   "metadata": {},
   "source": [
    "## Summary stats of prompt dataset"
   ]
  },
  {
   "cell_type": "code",
   "execution_count": 37,
   "id": "d0c8e6d9",
   "metadata": {},
   "outputs": [],
   "source": [
    "from transformers import BertTokenizer\n",
    "tokenizer = BertTokenizer.from_pretrained(\"bert-base-uncased\")"
   ]
  },
  {
   "cell_type": "code",
   "execution_count": 38,
   "id": "f53cf499",
   "metadata": {},
   "outputs": [],
   "source": [
    "toks = tokenizer.tokenize(prompt)\n"
   ]
  },
  {
   "cell_type": "code",
   "execution_count": 40,
   "id": "9a5f9621",
   "metadata": {},
   "outputs": [
    {
     "data": {
      "text/plain": [
       "426"
      ]
     },
     "execution_count": 40,
     "metadata": {},
     "output_type": "execute_result"
    }
   ],
   "source": [
    "len(toks)"
   ]
  },
  {
   "cell_type": "code",
   "execution_count": null,
   "id": "66b1b069",
   "metadata": {},
   "outputs": [],
   "source": []
  }
 ],
 "metadata": {
  "kernelspec": {
   "display_name": "biomedical",
   "language": "python",
   "name": "biomedical"
  },
  "language_info": {
   "codemirror_mode": {
    "name": "ipython",
    "version": 3
   },
   "file_extension": ".py",
   "mimetype": "text/x-python",
   "name": "python",
   "nbconvert_exporter": "python",
   "pygments_lexer": "ipython3",
   "version": "3.8.10"
  }
 },
 "nbformat": 4,
 "nbformat_minor": 5
}
