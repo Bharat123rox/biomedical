{
 "cells": [
  {
   "cell_type": "markdown",
   "id": "d7655b12",
   "metadata": {},
   "source": [
    "# Biomedical NLP Preprocessing\n",
    "\n",
    "I looked at some existing biomedical Python libraries. All the following were unable to read BC5CDR PubTator source files without error due to the relation annotations\n",
    "- PubTatorCorpusReader\n",
    "- PubTatorCorpus\n",
    "- kindred\n",
    "\n",
    "Support for BioC XML seems better.\n",
    "\n",
    "For representing data in HuggingFace, the format is flexible. I prefer to preserve document/abstract information when generating tagging datasets, so something like this record format might make sense. \n",
    "\n",
    "```\n",
    "{\n",
    "\"id\":\"0\"\n",
    "\"sentences\":[\n",
    "    {\"text\": \"xxx\",\n",
    "    \"entities\":[...],\n",
    "    \"tokens\":[...],\n",
    "    \"ner_tags\":[...]},\n",
    "]\n",
    "\"relations\":[]\n",
    "}\n",
    "```"
   ]
  },
  {
   "cell_type": "code",
   "execution_count": 4,
   "id": "599b3df5",
   "metadata": {},
   "outputs": [
    {
     "name": "stdout",
     "output_type": "stream",
     "text": [
      "Naloxone reverses the antihypertensive effect of clonidine.\n",
      "BioCAnnotation[id=0,text='Naloxone',infons=[type=Chemical,MESH=D009270],locations=[BioCLocation[offset=0,length=8]],]\n",
      "BioCAnnotation[id=1,text='clonidine',infons=[type=Chemical,MESH=D003000],locations=[BioCLocation[offset=49,length=9]],]\n",
      "---\n",
      "In unanesthetized, spontaneously hypertensive rats the decrease in blood pressure and heart rate produced by intravenous clonidine, 5 to 20 micrograms/kg, was inhibited or reversed by nalozone, 0.2 to 2 mg/kg. The hypotensive effect of 100 mg/kg alpha-methyldopa was also partially reversed by naloxone. Naloxone alone did not affect either blood pressure or heart rate. In brain membranes from spontaneously hypertensive rats clonidine, 10(-8) to 10(-5) M, did not influence stereoselective binding of [3H]-naloxone (8 nM), and naloxone, 10(-8) to 10(-4) M, did not influence clonidine-suppressible binding of [3H]-dihydroergocryptine (1 nM). These findings indicate that in spontaneously hypertensive rats the effects of central alpha-adrenoceptor stimulation involve activation of opiate receptors. As naloxone and clonidine do not appear to interact with the same receptor site, the observed functional antagonism suggests the release of an endogenous opiate by clonidine or alpha-methyldopa and the possible role of the opiate in the central control of sympathetic tone.\n",
      "BioCAnnotation[id=2,text='hypertensive',infons=[type=Disease,MESH=D006973],locations=[BioCLocation[offset=93,length=12]],]\n",
      "BioCAnnotation[id=3,text='clonidine',infons=[type=Chemical,MESH=D003000],locations=[BioCLocation[offset=181,length=9]],]\n",
      "BioCAnnotation[id=4,text='nalozone',infons=[type=Chemical,MESH=-1],locations=[BioCLocation[offset=244,length=8]],]\n",
      "BioCAnnotation[id=5,text='hypotensive',infons=[type=Disease,MESH=D007022],locations=[BioCLocation[offset=274,length=11]],]\n",
      "BioCAnnotation[id=6,text='alpha-methyldopa',infons=[type=Chemical,MESH=D008750],locations=[BioCLocation[offset=306,length=16]],]\n",
      "BioCAnnotation[id=7,text='naloxone',infons=[type=Chemical,MESH=D009270],locations=[BioCLocation[offset=354,length=8]],]\n",
      "BioCAnnotation[id=8,text='Naloxone',infons=[type=Chemical,MESH=D009270],locations=[BioCLocation[offset=364,length=8]],]\n",
      "BioCAnnotation[id=9,text='hypertensive',infons=[type=Disease,MESH=D006973],locations=[BioCLocation[offset=469,length=12]],]\n",
      "BioCAnnotation[id=10,text='clonidine',infons=[type=Chemical,MESH=D003000],locations=[BioCLocation[offset=487,length=9]],]\n",
      "BioCAnnotation[id=11,text='[3H]-naloxone',infons=[type=Chemical,MESH=-1],locations=[BioCLocation[offset=563,length=13]],]\n",
      "BioCAnnotation[id=12,text='naloxone',infons=[type=Chemical,MESH=D009270],locations=[BioCLocation[offset=589,length=8]],]\n",
      "BioCAnnotation[id=13,text='clonidine',infons=[type=Chemical,MESH=D003000],locations=[BioCLocation[offset=637,length=9]],]\n",
      "BioCAnnotation[id=14,text='[3H]-dihydroergocryptine',infons=[type=Chemical,MESH=-1],locations=[BioCLocation[offset=671,length=24]],]\n",
      "BioCAnnotation[id=15,text='hypertensive',infons=[type=Disease,MESH=D006973],locations=[BioCLocation[offset=750,length=12]],]\n",
      "BioCAnnotation[id=16,text='naloxone',infons=[type=Chemical,MESH=D009270],locations=[BioCLocation[offset=865,length=8]],]\n",
      "BioCAnnotation[id=17,text='clonidine',infons=[type=Chemical,MESH=D003000],locations=[BioCLocation[offset=878,length=9]],]\n",
      "BioCAnnotation[id=18,text='clonidine',infons=[type=Chemical,MESH=D003000],locations=[BioCLocation[offset=1026,length=9]],]\n",
      "BioCAnnotation[id=19,text='alpha-methyldopa',infons=[type=Chemical,MESH=D008750],locations=[BioCLocation[offset=1039,length=16]],]\n",
      "---\n",
      "[BioCRelation[id=R0,infons=[relation=CID,Chemical=D008750,Disease=D007022],nodes=[],]]\n"
     ]
    }
   ],
   "source": [
    "import bioc\n",
    "\n",
    "fname = 'CDR.Corpus.v010516/CDR_TrainingSet.BioC.xml'\n",
    "\n",
    "reader = bioc.BioCXMLDocumentReader(fname)\n",
    "collection_info = reader.get_collection_info()\n",
    "for doc in reader:\n",
    "    for item in doc.passages:\n",
    "        print(item.text)\n",
    "        for anno in item.annotations:\n",
    "            print(anno)\n",
    "        print('---')\n",
    "    print(doc.relations)\n",
    "    break"
   ]
  },
  {
   "cell_type": "markdown",
   "id": "ca951c3e",
   "metadata": {},
   "source": [
    "## Sentence Boundary Detection / Tokenization\n",
    "\n",
    "`scispacy` provides some nice tools for preprocessing biomedical documents. In general, I'd suggest doing minimal processing to the raw data, especially if you are implementing a dataset for HuggingFace's Datasets hub. However, most NER tasks datasets are broken down into sentences so in some cases we might want to preprocess data. This is critical, for example, in clinical text where doucuments can be quite long and we want to focus on a specific section or sentence for defining our input context. "
   ]
  },
  {
   "cell_type": "code",
   "execution_count": 5,
   "id": "aac84f45",
   "metadata": {},
   "outputs": [],
   "source": [
    "import spacy\n",
    "import scispacy\n",
    "\n",
    "nlp = spacy.load('en_core_sci_lg')\n",
    "doc = [section.text for section in doc.passages]"
   ]
  },
  {
   "cell_type": "code",
   "execution_count": 6,
   "id": "fce3cf78",
   "metadata": {},
   "outputs": [
    {
     "name": "stdout",
     "output_type": "stream",
     "text": [
      "In unanesthetized, spontaneously hypertensive rats the decrease in blood pressure and heart rate produced by intravenous clonidine, 5 to 20 micrograms/kg, was inhibited or reversed by nalozone, 0.2 to 2 mg/kg.\n",
      "---\n",
      "The hypotensive effect of 100 mg/kg alpha-methyldopa was also partially reversed by naloxone.\n",
      "---\n",
      "Naloxone alone did not affect either blood pressure or heart rate.\n",
      "---\n",
      "In brain membranes from spontaneously hypertensive rats clonidine, 10(-8) to 10(-5) M, did not influence stereoselective binding of [3H]-naloxone (8 nM), and naloxone, 10(-8) to 10(-4) M, did not influence clonidine-suppressible binding of [3H]-dihydroergocryptine (1 nM).\n",
      "---\n",
      "These findings indicate that in spontaneously hypertensive rats the effects of central alpha-adrenoceptor stimulation involve activation of opiate receptors.\n",
      "---\n",
      "As naloxone and clonidine do not appear to interact with the same receptor site, the observed functional antagonism suggests the release of an endogenous opiate by clonidine or alpha-methyldopa and the possible role of the opiate in the central control of sympathetic tone.\n",
      "---\n"
     ]
    },
    {
     "data": {
      "text/plain": [
       "177"
      ]
     },
     "execution_count": 6,
     "metadata": {},
     "output_type": "execute_result"
    }
   ],
   "source": [
    "tok_n = 0\n",
    "pdoc = nlp(doc[1])\n",
    "for sent in pdoc.sents:\n",
    "    print(sent)\n",
    "    tokens = [tok.text for tok in sent]\n",
    "    tok_n += len(tokens)\n",
    "    print('---')\n",
    "    \n",
    "tok_n"
   ]
  },
  {
   "cell_type": "code",
   "execution_count": null,
   "id": "7f9a48b6",
   "metadata": {},
   "outputs": [],
   "source": [
    "print(doc[0])"
   ]
  },
  {
   "cell_type": "code",
   "execution_count": null,
   "id": "5847aa5f",
   "metadata": {},
   "outputs": [],
   "source": []
  }
 ],
 "metadata": {
  "kernelspec": {
   "display_name": "biomedical",
   "language": "python",
   "name": "biomedical"
  },
  "language_info": {
   "codemirror_mode": {
    "name": "ipython",
    "version": 3
   },
   "file_extension": ".py",
   "mimetype": "text/x-python",
   "name": "python",
   "nbconvert_exporter": "python",
   "pygments_lexer": "ipython3",
   "version": "3.8.10"
  }
 },
 "nbformat": 4,
 "nbformat_minor": 5
}
